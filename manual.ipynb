{
 "cells": [
  {
   "cell_type": "markdown",
   "metadata": {},
   "source": [
    "### Projeto Django"
   ]
  },
  {
   "cell_type": "markdown",
   "metadata": {},
   "source": [
    "#### Instalando lib django\n",
    "\n",
    "`pip install django`\n",
    "\n",
    "#### Iniciando Projeto\n",
    "\n",
    "`django-admin startproject projeto01`"
   ]
  },
  {
   "cell_type": "markdown",
   "metadata": {},
   "source": [
    "#### Criando app Estanciado do Django\n",
    "\n",
    "`py manage.py startapp main`"
   ]
  },
  {
   "cell_type": "markdown",
   "metadata": {},
   "source": [
    "#### Iniciando o app\n",
    "\n",
    "`py manage.py runserver`"
   ]
  },
  {
   "cell_type": "markdown",
   "metadata": {},
   "source": [
    "#### Iniciando o Migrate\n",
    "\n",
    "`py manage.py migrate`"
   ]
  },
  {
   "cell_type": "markdown",
   "metadata": {},
   "source": [
    "#### Acessando Painel do App.\n",
    "\n",
    "`py manage.py createsuperuser`\n",
    "\n",
    "##### Preencha todo o formulario"
   ]
  },
  {
   "cell_type": "markdown",
   "metadata": {},
   "source": [
    "#### Verificando se o app está funcionando direito nb\n",
    "\n",
    "`py manage.py runserver`"
   ]
  }
 ],
 "metadata": {
  "language_info": {
   "name": "python"
  }
 },
 "nbformat": 4,
 "nbformat_minor": 2
}
